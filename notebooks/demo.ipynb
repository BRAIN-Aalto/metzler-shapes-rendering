{
 "cells": [
  {
   "cell_type": "code",
   "execution_count": 1,
   "metadata": {},
   "outputs": [],
   "source": [
    "%load_ext autoreload\n",
    "%autoreload 2\n",
    "%matplotlib inline"
   ]
  },
  {
   "cell_type": "code",
   "execution_count": 2,
   "metadata": {},
   "outputs": [],
   "source": [
    "import ipywidgets as widgets\n",
    "from ipywidgets import interact, fixed"
   ]
  },
  {
   "cell_type": "code",
   "execution_count": 3,
   "metadata": {},
   "outputs": [],
   "source": [
    "import autoroot"
   ]
  },
  {
   "cell_type": "code",
   "execution_count": 4,
   "metadata": {},
   "outputs": [],
   "source": [
    "from metzler_renderer.geometry import (\n",
    "    ShapeString,\n",
    "    ShapeGenerator,\n",
    "    MetzlerShape\n",
    ")\n",
    "from metzler_renderer.renderer import (\n",
    "    Camera,\n",
    "    Renderer,\n",
    "    Object3D\n",
    ")"
   ]
  },
  {
   "cell_type": "code",
   "execution_count": 5,
   "metadata": {},
   "outputs": [],
   "source": [
    "# create the camera object\n",
    "camera = Camera()"
   ]
  },
  {
   "cell_type": "code",
   "execution_count": 6,
   "metadata": {},
   "outputs": [],
   "source": [
    "generator = ShapeGenerator(random_state=12345)"
   ]
  },
  {
   "cell_type": "code",
   "execution_count": 7,
   "metadata": {},
   "outputs": [],
   "source": [
    "shape = MetzlerShape(generator.generate())"
   ]
  },
  {
   "cell_type": "code",
   "execution_count": 8,
   "metadata": {},
   "outputs": [],
   "source": [
    "object_params = {\n",
    "    \"facecolor\": \"#42bcf5\",\n",
    "    \"edgecolor\": \"black\",\n",
    "    \"edgewidth\": 0.8\n",
    "}\n",
    "\n",
    "object3d = Object3D(\n",
    "    shape=shape,\n",
    "    **object_params\n",
    ")"
   ]
  },
  {
   "cell_type": "code",
   "execution_count": 9,
   "metadata": {},
   "outputs": [
    {
     "data": {
      "application/vnd.jupyter.widget-view+json": {
       "model_id": "8fb53511d5374804bb14566356313aa9",
       "version_major": 2,
       "version_minor": 0
      },
      "text/plain": [
       "interactive(children=(FloatSlider(value=-15.0, continuous_update=False, description='elevation', max=89.9, min…"
      ]
     },
     "metadata": {},
     "output_type": "display_data"
    }
   ],
   "source": [
    "step = 1e-1\n",
    "theta_widget = widgets.FloatSlider(\n",
    "    value=-15,\n",
    "    min=-(90 - step),\n",
    "    max=90 - step,\n",
    "    step=step,\n",
    "    description=r\"elevation\",\n",
    "    disabled=False,\n",
    "    continuous_update=False,\n",
    "    orientation='horizontal',\n",
    "    readout=True,\n",
    "    readout_format='.1f',\n",
    ")\n",
    "\n",
    "phi_widget = widgets.FloatSlider(\n",
    "    value=20,\n",
    "    min=0,\n",
    "    max=360 - step,\n",
    "    step=step,\n",
    "    description=r\"azimuth\",\n",
    "    disabled=False,\n",
    "    continuous_update=False,\n",
    "    orientation='horizontal',\n",
    "    readout=True,\n",
    "    readout_format='.1f',\n",
    ")\n",
    "\n",
    "@interact(r=fixed(20), theta=theta_widget, phi=phi_widget)\n",
    "def orbit(r, theta, phi):\n",
    "    camera.setSphericalPosition(r, theta, phi)\n",
    "    # create the renderer object\n",
    "    renderer = Renderer(\n",
    "        imgsize=(4*128, 4*128),\n",
    "        dpi=100,\n",
    "        bgcolor=\"white\",\n",
    "        format=\"png\"\n",
    "    )\n",
    "    renderer.render(object3d, camera)"
   ]
  }
 ],
 "metadata": {
  "kernelspec": {
   "display_name": "Python 3",
   "language": "python",
   "name": "python3"
  },
  "language_info": {
   "codemirror_mode": {
    "name": "ipython",
    "version": 3
   },
   "file_extension": ".py",
   "mimetype": "text/x-python",
   "name": "python",
   "nbconvert_exporter": "python",
   "pygments_lexer": "ipython3",
   "version": "3.10.13"
  }
 },
 "nbformat": 4,
 "nbformat_minor": 2
}
